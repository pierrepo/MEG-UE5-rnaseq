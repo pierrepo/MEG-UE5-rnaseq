{
 "cells": [
  {
   "cell_type": "markdown",
   "metadata": {},
   "source": [
    "# Exploration des résultats de l'analyse RNA-seq\n",
    "\n",
    "Nettoyage des données résiduelles :"
   ]
  },
  {
   "cell_type": "code",
   "execution_count": 1,
   "metadata": {},
   "outputs": [],
   "source": [
    "rm -f GUP-1_6p_on_chr6p-cox.sam GUP-1_6p_on_chr6p-cox.sam.gz"
   ]
  },
  {
   "cell_type": "markdown",
   "metadata": {},
   "source": [
    "## Accès aux données\n",
    "\n",
    "Les résultats de l'analyse RNA-seq se trouvent dans le répertoire `/srv/data/meg-m1-ue5/fil_rouge_unix`.\n",
    "\n",
    "Vous n'avez pas le droit d'écrire dans ce répertoire, mais vous pouvez le parcourir et ouvrir ses fichiers.\n",
    "\n",
    "**Question :** Affichez le contenu du répertoire `/srv/data/meg-m1-ue5/fil_rouge_unix` avec les détails :"
   ]
  },
  {
   "cell_type": "code",
   "execution_count": 2,
   "metadata": {},
   "outputs": [
    {
     "name": "stdout",
     "output_type": "stream",
     "text": [
      "total 36\n",
      "drwxr-xr-x 2 ppoulain 1013 4096 Oct 14 11:35 chr6p_annotations\n",
      "drwxr-xr-x 2 ppoulain 1013 4096 Oct 14 11:35 chr6p_genomes\n",
      "drwxr-xr-x 2 ppoulain 1013 4096 Oct 14 11:35 chr6p_index\n",
      "drwxr-xr-x 2 ppoulain 1013 4096 Oct 14 11:35 chr6p_map\n",
      "drwxr-xr-x 2 ppoulain 1013 4096 Oct 14 11:35 chr6p_samples\n",
      "drwxr-xr-x 2 ppoulain 1013 4096 Oct 14 11:35 chr6p_trim\n",
      "-rw-r--r-- 1 ppoulain 1013 4031 Oct 14 11:35 workflow_20201014-112523.log\n",
      "-rwxr-xr-x 1 ppoulain 1013 5994 Oct 14 11:35 workflow.sh\n"
     ]
    }
   ],
   "source": [
    "ls -l /srv/data/meg-m1-ue5/fil_rouge_unix"
   ]
  },
  {
   "cell_type": "markdown",
   "metadata": {},
   "source": [
    "**Question :** Affichez l'arboresence (les répertoires, les sous-répertoires et les fichiers) de ce répertoire."
   ]
  },
  {
   "cell_type": "code",
   "execution_count": 3,
   "metadata": {},
   "outputs": [
    {
     "name": "stdout",
     "output_type": "stream",
     "text": [
      "/srv/data/meg-m1-ue5/fil_rouge_unix\n",
      "├── chr6p_annotations\n",
      "│   ├── chr6-cox.gtf\n",
      "│   └── chr6-pgf.gtf\n",
      "├── chr6p_genomes\n",
      "│   ├── chr6p-cox.fa\n",
      "│   └── chr6p-pgf.fa\n",
      "├── chr6p_index\n",
      "│   ├── chr6p-cox.1.ht2\n",
      "│   ├── chr6p-cox.2.ht2\n",
      "│   ├── chr6p-cox.3.ht2\n",
      "│   ├── chr6p-cox.4.ht2\n",
      "│   ├── chr6p-cox.5.ht2\n",
      "│   ├── chr6p-cox.6.ht2\n",
      "│   ├── chr6p-cox.7.ht2\n",
      "│   ├── chr6p-cox.8.ht2\n",
      "│   ├── chr6p-cox.fa\n",
      "│   ├── chr6p-pgf.1.ht2\n",
      "│   ├── chr6p-pgf.2.ht2\n",
      "│   ├── chr6p-pgf.3.ht2\n",
      "│   ├── chr6p-pgf.4.ht2\n",
      "│   ├── chr6p-pgf.5.ht2\n",
      "│   ├── chr6p-pgf.6.ht2\n",
      "│   ├── chr6p-pgf.7.ht2\n",
      "│   ├── chr6p-pgf.8.ht2\n",
      "│   └── chr6p-pgf.fa\n",
      "├── chr6p_map\n",
      "│   ├── GUP-1_6p_on_chr6p-cox.bai\n",
      "│   ├── GUP-1_6p_on_chr6p-cox.bam\n",
      "│   ├── GUP-1_6p_on_chr6p-cox.log\n",
      "│   ├── GUP-1_6p_on_chr6p-pgf.bai\n",
      "│   ├── GUP-1_6p_on_chr6p-pgf.bam\n",
      "│   ├── GUP-1_6p_on_chr6p-pgf.log\n",
      "│   ├── GUP-3_6p_on_chr6p-cox.bai\n",
      "│   ├── GUP-3_6p_on_chr6p-cox.bam\n",
      "│   ├── GUP-3_6p_on_chr6p-cox.log\n",
      "│   ├── GUP-3_6p_on_chr6p-pgf.bai\n",
      "│   ├── GUP-3_6p_on_chr6p-pgf.bam\n",
      "│   └── GUP-3_6p_on_chr6p-pgf.log\n",
      "├── chr6p_samples\n",
      "│   ├── GUP-1_6p_R1.fastq.gz\n",
      "│   ├── GUP-1_6p_R2.fastq.gz\n",
      "│   ├── GUP-3_6p_R1.fastq.gz\n",
      "│   └── GUP-3_6p_R2.fastq.gz\n",
      "├── chr6p_trim\n",
      "│   ├── GUP-1_6p_trim_1P.fastq.gz\n",
      "│   ├── GUP-1_6p_trim_1U.fastq.gz\n",
      "│   ├── GUP-1_6p_trim_2P.fastq.gz\n",
      "│   ├── GUP-1_6p_trim_2U.fastq.gz\n",
      "│   ├── GUP-3_6p_trim_1P.fastq.gz\n",
      "│   ├── GUP-3_6p_trim_1U.fastq.gz\n",
      "│   ├── GUP-3_6p_trim_2P.fastq.gz\n",
      "│   └── GUP-3_6p_trim_2U.fastq.gz\n",
      "├── workflow_20201014-112523.log\n",
      "└── workflow.sh\n",
      "\n",
      "6 directories, 48 files\n"
     ]
    }
   ],
   "source": [
    "tree /srv/data/meg-m1-ue5/fil_rouge_unix"
   ]
  },
  {
   "cell_type": "markdown",
   "metadata": {},
   "source": [
    "**Question :** Quel espace disque est occupé par l'ensemble des données dans ce répertoire ?"
   ]
  },
  {
   "cell_type": "code",
   "execution_count": 4,
   "metadata": {},
   "outputs": [
    {
     "name": "stdout",
     "output_type": "stream",
     "text": [
      "961M\t/srv/data/meg-m1-ue5/fil_rouge_unix/\n"
     ]
    }
   ],
   "source": [
    "du -sh /srv/data/meg-m1-ue5/fil_rouge_unix/"
   ]
  },
  {
   "cell_type": "markdown",
   "metadata": {},
   "source": [
    "**Question :** Affichez la taille des fichiers `.bam` issus du mapping."
   ]
  },
  {
   "cell_type": "code",
   "execution_count": 5,
   "metadata": {},
   "outputs": [
    {
     "name": "stdout",
     "output_type": "stream",
     "text": [
      "-rw-r--r-- 1 ppoulain 1013 74M Oct 14 11:35 /srv/data/meg-m1-ue5/fil_rouge_unix/chr6p_map/GUP-1_6p_on_chr6p-cox.bam\n",
      "-rw-r--r-- 1 ppoulain 1013 74M Oct 14 11:35 /srv/data/meg-m1-ue5/fil_rouge_unix/chr6p_map/GUP-1_6p_on_chr6p-pgf.bam\n",
      "-rw-r--r-- 1 ppoulain 1013 55M Oct 14 11:35 /srv/data/meg-m1-ue5/fil_rouge_unix/chr6p_map/GUP-3_6p_on_chr6p-cox.bam\n",
      "-rw-r--r-- 1 ppoulain 1013 56M Oct 14 11:35 /srv/data/meg-m1-ue5/fil_rouge_unix/chr6p_map/GUP-3_6p_on_chr6p-pgf.bam\n"
     ]
    }
   ],
   "source": [
    "ls -lh /srv/data/meg-m1-ue5/fil_rouge_unix/chr6p_map/*.bam"
   ]
  },
  {
   "cell_type": "markdown",
   "metadata": {},
   "source": [
    "## Bam et Sam\n",
    "\n",
    "Les fichiers `.bam` sont la version binaire des fichiers `.sam`.\n",
    "\n",
    "**Question :** `.bam` vs `.sam`, quels sont les avantages et les inconvénients ?"
   ]
  },
  {
   "cell_type": "markdown",
   "metadata": {},
   "source": [
    "Inconvénient :\n",
    "- On ne peut pas les ouvrir avec un éditeur de texte ou les manipuler avec les outils Unix classiques (`cat`, `grep`, `head`, `awk`...)\n",
    "\n",
    "Avantages :\n",
    "- Ils prennent peu de place sur le disque.\n",
    "- La plupart des outils de bioinfo orientés NGS peuvent manipuler ce type de fichier."
   ]
  },
  {
   "cell_type": "markdown",
   "metadata": {},
   "source": [
    "## Manipulation avec samtools\n",
    "\n",
    "### Retour sur le workflow\n",
    "\n",
    "Le logiciel `samtools` est utilisé plusieurs fois dans le script `workflow.sh`.\n",
    "\n",
    "**Question :** Identifiez à quelles étapes `samtools` intervient et pour quoi faire exactement."
   ]
  },
  {
   "cell_type": "markdown",
   "metadata": {},
   "source": [
    "### étape 3 « map samples on genome + index mapping »\n",
    "Ligne de commande :\n",
    "```\n",
    "hisat2 -x ../${index_dir}/${genome_name} \\\n",
    "            --rna-strandness FR \\\n",
    "            -1 ../${trim_dir}/${sample_name}_trim_1P.fastq.gz \\\n",
    "            -2 ../${trim_dir}/${sample_name}_trim_2P.fastq.gz \\\n",
    "            2> ${sample_name}_on_${genome_name}.log | \\\n",
    "            samtools sort -T ${sample_name}_on_${genome_name} -o ${sample_name}_on_${genome_name}.bam -\n",
    "```\n",
    "\n",
    "Le logiciel d'alignement `hisat2` renvoie l'alignement au format sam. On récupère cet alignement à la volée avec le pipe (`|`) à la fin de la ligne (`2> ${sample_name}_on_${genome_name}.log | \\`) puis on le redirige vers `samtools` pour trier les reads et produire un fichier binaire `.bam`.\n",
    "\n",
    "\n",
    "### étape 3 « map samples on genome + index mapping » (encore)\n",
    "Ligne de commande :\n",
    "```\n",
    "samtools index -b ${sample_name}_on_${genome_name}.bam\n",
    "```\n",
    "\n",
    "`samtools` est utilisé ici pour indexé le fichier `.bam` produit juste avant. Le fichie index ainsi créé porte l'extension `.bai`.\n",
    "\n",
    "\n",
    "### étape 4 « count number of mapped reads (with and without mismatches) »\n",
    "Ligne de commande :\n",
    "```\n",
    "total_reads=$(samtools view ${sample_name}_on_${genome_name}.bam ${genome_name}:28734408-33383765 | uniq | wc -l)\n",
    "nomismatch_reads=$(samtools view ${sample_name}_on_${genome_name}.bam ${genome_name}:28734408-33383765 | grep \"NM:i:0\" | uniq | wc -l)\n",
    "```\n",
    "\n",
    "On utilise `samtools` pour fouiller dans les résultats d'alignement pour une région chromosomique particulière (`28734408-33383765`).\n",
    "\n",
    "La commande `samtools view` permet de transformer une fichier `.bam` en `.sam`."
   ]
  },
  {
   "cell_type": "markdown",
   "metadata": {},
   "source": [
    "## Samtools view\n",
    "\n",
    "La commande `samtools view` permet de transformer une fichier `.bam` en `.sam` et de visualiser certaines propriétés du fichier `.bam`.\n",
    "\n",
    "**Question :** Dans l'aide de `samtools view` ([ici](http://www.htslib.org/doc/samtools-view.html)), trouvez quelle option permet d'afficher **uniquement** les métadonnées (*header*) d'un fichier `.bam`."
   ]
  },
  {
   "cell_type": "markdown",
   "metadata": {},
   "source": [
    "Ici, c'est l'option `-H` qui nous intéresse :\n",
    "> `-H        Output the header only.`"
   ]
  },
  {
   "cell_type": "markdown",
   "metadata": {},
   "source": [
    "**Question :** Affichez les métadonnées du fichier `GUP-1_6p_on_chr6p-cox.bam`. Pensez à bien indiquer le chemin complet du fichier (`/srv/data/chemin/à/déterminer/GUP-1_6p_on_chr6p-cox.bam`)."
   ]
  },
  {
   "cell_type": "code",
   "execution_count": 6,
   "metadata": {},
   "outputs": [
    {
     "name": "stdout",
     "output_type": "stream",
     "text": [
      "@HD\tVN:1.0\tSO:coordinate\n",
      "@SQ\tSN:chr6p-cox\tLN:60000000\n",
      "@PG\tID:hisat2\tPN:hisat2\tVN:2.2.1\tCL:\"/srv/miniconda3/envs/rnaseq-meg-m1-ue5/bin/hisat2-align-s --wrapper basic-0 -x ../chr6p_index/chr6p-cox --rna-strandness FR --read-lengths 100,75,68,77,71,70,65,64,74,69,67,72,66,82,78,73,60,53,98,76,49,51,96,61,58,55,52,97,90,95,62,59,63,57,39,56,94,93,48,47,88,54,92,99,50,38,79,84,86,41,37,85,83,46,42,40,91,87,45,89,81,43,80,44,36 -1 /tmp/95785.inpipe1 -2 /tmp/95785.inpipe2\"\n",
      "@PG\tID:samtools\tPN:samtools\tPP:hisat2\tVN:1.11\tCL:samtools sort -T GUP-1_6p_on_chr6p-cox -o GUP-1_6p_on_chr6p-cox.bam -\n",
      "@PG\tID:samtools.1\tPN:samtools\tPP:samtools\tVN:1.10\tCL:samtools view -H /srv/data/meg-m1-ue5/fil_rouge_unix/chr6p_map/GUP-1_6p_on_chr6p-cox.bam\n"
     ]
    }
   ],
   "source": [
    "samtools view -H /srv/data/meg-m1-ue5/fil_rouge_unix/chr6p_map/GUP-1_6p_on_chr6p-cox.bam"
   ]
  },
  {
   "cell_type": "markdown",
   "metadata": {},
   "source": [
    "**Question :** Retrouvez dans ces métadonnées le logiciel d'alignement utilisé."
   ]
  },
  {
   "cell_type": "markdown",
   "metadata": {},
   "source": [
    "Lignes 3 et 4, on retrouve la mention de `hisat2` avec même la ligne de commande complète."
   ]
  },
  {
   "cell_type": "markdown",
   "metadata": {},
   "source": [
    "### Comparaison de taille de fichiers"
   ]
  },
  {
   "cell_type": "markdown",
   "metadata": {},
   "source": [
    "Convertissez le fichier `GUP-1_6p_on_chr6p-cox.bam` en fichier `.sam` dans votre répertoire courant avec la commande suivante :\n",
    "```\n",
    "samtools view /srv/data/chemin/à/déterminer/GUP-1_6p_on_chr6p-cox.bam > GUP-1_6p_on_chr6p-cox.sam\n",
    "```\n",
    "\n",
    "Attention, n'oubliez pas la redirection `>`. Sinon vous risquez de faire planter votre notebook Jupyter."
   ]
  },
  {
   "cell_type": "code",
   "execution_count": 7,
   "metadata": {},
   "outputs": [],
   "source": [
    "samtools view /srv/data/meg-m1-ue5/fil_rouge_unix/chr6p_map/GUP-1_6p_on_chr6p-cox.bam > GUP-1_6p_on_chr6p-cox.sam"
   ]
  },
  {
   "cell_type": "markdown",
   "metadata": {},
   "source": [
    "**Question :** Quelle est la taille du fichier `/srv/data/chemin/à/déterminer/GUP-1_6p_on_chr6p-cox.bam` ? "
   ]
  },
  {
   "cell_type": "code",
   "execution_count": 8,
   "metadata": {},
   "outputs": [
    {
     "name": "stdout",
     "output_type": "stream",
     "text": [
      "-rw-r--r-- 1 ppoulain 1013 74M Oct 14 11:35 /srv/data/meg-m1-ue5/fil_rouge_unix/chr6p_map/GUP-1_6p_on_chr6p-cox.bam\n"
     ]
    }
   ],
   "source": [
    "ls -lh /srv/data/meg-m1-ue5/fil_rouge_unix/chr6p_map/GUP-1_6p_on_chr6p-cox.bam"
   ]
  },
  {
   "cell_type": "markdown",
   "metadata": {},
   "source": [
    "**Question :** Quelle est la taille du fichier `GUP-1_6p_on_chr6p-cox.sam` obtenu ? "
   ]
  },
  {
   "cell_type": "code",
   "execution_count": 9,
   "metadata": {},
   "outputs": [
    {
     "name": "stdout",
     "output_type": "stream",
     "text": [
      "-rw-rw-r-- 1 ppoulain ppoulain 387M Oct 14 19:53 GUP-1_6p_on_chr6p-cox.sam\n"
     ]
    }
   ],
   "source": [
    "ls -lh GUP-1_6p_on_chr6p-cox.sam"
   ]
  },
  {
   "cell_type": "markdown",
   "metadata": {},
   "source": [
    "**Question :** Quel est le rapport de taille entre les deux fichiers ?"
   ]
  },
  {
   "cell_type": "markdown",
   "metadata": {},
   "source": [
    "$$\n",
    "\\frac{387}{75} \\approx 5.2\n",
    "$$"
   ]
  },
  {
   "cell_type": "markdown",
   "metadata": {},
   "source": [
    "Compressez maintenant le fichier `.sam` avec gzip :\n",
    "```\n",
    "gzip -k GUP-1_6p_on_chr6p-cox.sam\n",
    "```"
   ]
  },
  {
   "cell_type": "code",
   "execution_count": 10,
   "metadata": {},
   "outputs": [],
   "source": [
    "gzip -k GUP-1_6p_on_chr6p-cox.sam"
   ]
  },
  {
   "cell_type": "markdown",
   "metadata": {},
   "source": [
    "**Question :** Quelle est l'utilité de l'option `-k` de la commande `gzip` ?"
   ]
  },
  {
   "cell_type": "markdown",
   "metadata": {},
   "source": [
    "L'option `-k` permer de conserver le fichier non compressé. Habituellement, il est supprimé."
   ]
  },
  {
   "cell_type": "markdown",
   "metadata": {},
   "source": [
    "**Question :** Quelle est la taille du fichier `GUP-1_6p_on_chr6p-cox.sam.gz` ?"
   ]
  },
  {
   "cell_type": "code",
   "execution_count": 11,
   "metadata": {},
   "outputs": [
    {
     "name": "stdout",
     "output_type": "stream",
     "text": [
      "-rw-rw-r-- 1 ppoulain ppoulain 69M Oct 14 19:53 GUP-1_6p_on_chr6p-cox.sam.gz\n"
     ]
    }
   ],
   "source": [
    "ls -lh GUP-1_6p_on_chr6p-cox.sam.gz"
   ]
  },
  {
   "cell_type": "markdown",
   "metadata": {},
   "source": [
    "**Question :** La taille du fichier `.sam.gz` est plus petite que celle du fichier `.bam` initial.\n",
    "Pourquoi dans ce cas, utilisez quand le format `.bam` ?"
   ]
  },
  {
   "cell_type": "markdown",
   "metadata": {},
   "source": [
    "Un fichier au format `.bam` peut être indexé pour ensuite être parcouru très rapidement. Ce n'est pas possible avec un fichier compressé `.sam.gz`."
   ]
  },
  {
   "cell_type": "markdown",
   "metadata": {},
   "source": [
    "### Recherche d'un read pairé\n",
    "\n",
    "**Question :** Affichez les 10 premières lignes du fichier `.sam`."
   ]
  },
  {
   "cell_type": "code",
   "execution_count": 12,
   "metadata": {},
   "outputs": [
    {
     "name": "stdout",
     "output_type": "stream",
     "text": [
      "HWI-ST365:251:D0RP0ACXX:2:1109:7427:33385\t177\tchr6p-cox\t61313\t60\t5S95M\t=\t61353\t100\tGGAAAGAGAGTCAGATGATAAGAGGGTCAAAATTATGTTTATCTTAGGAAAAGTAGAATAGAAAATTTATAAGCAGATTAAAAACACATAATAAAAGTAG\t>:CDBFDFFHCAHFHEHHGHGGEGIIIGJIGHHGHGGEEHHCHDIIJHGGJIIIHHHIHGEIHFGEF<IGHEIIJIGJJIHGE?IIJHGHHHFFFFFCBB\tAS:i:-5\tXN:i:0\tXM:i:0\tXO:i:0\tXG:i:0\tNM:i:0\tMD:Z:95\tYS:i:0\tYT:Z:DP\tXS:A:+\tNH:i:1\n",
      "HWI-ST365:251:D0RP0ACXX:2:1109:7427:33385\t113\tchr6p-cox\t61353\t60\t55M\t=\t61313\t-100\tAGGAAAAGTAGAATAGAAAATTTATAAGCAGATTAAAAACACATAATAAAAGTAG\t:0*HFBDD<C?9**GDFFEBE>CC@>F4:4@EB;CF@<2A?FF>DAA?;BA41::\tAS:i:0\tXN:i:0\tXM:i:0\tXO:i:0\tXG:i:0\tNM:i:0\tMD:Z:55\tYS:i:-5\tYT:Z:DP\tXS:A:-\tNH:i:1\n",
      "HWI-ST365:251:D0RP0ACXX:2:2115:4373:61541\t163\tchr6p-cox\t62660\t60\t98M\t=\t62759\t145\tCGTACCTTAGTTCAACCATTGTGGAAGACAGTGTGGTGTTTCCTCAAGGATCTAAAACTAGAAATACCATTTGACCCAGCAATCCCATTACTGGGTAT\tB+14B+AB<FC?FEDHB=<CHF4C<?C;F;BEDDFE1??BF9DBBAF@FHFADGACHDH8=C7@DE@@=;CCEC:=A=ABD9@;>ACECA@CDC?;5@\tAS:i:-8\tZS:i:-11\tXN:i:0\tXM:i:2\tXO:i:0\tXG:i:0\tNM:i:2\tMD:Z:5A40T51\tYS:i:-2\tYT:Z:CP\tXS:A:-\tNH:i:1\n",
      "HWI-ST365:251:D0RP0ACXX:2:2115:4373:61541\t83\tchr6p-cox\t62759\t60\t46M\t=\t62660\t-145\tTTCCCAAACGATTGTAAGTCATTCTACTATAAAGACACATGCACAG\t0)EGFD=HBAEF@EEC:34@C>HFBIEGHEFFHFF?AHDDFFD@@?\tAS:i:-2\tZS:i:-2\tXN:i:0\tXM:i:1\tXO:i:0\tXG:i:0\tNM:i:1\tMD:Z:1A44\tYS:i:-8\tYT:Z:CP\tXS:A:-\tNH:i:1\n",
      "HWI-ST365:251:D0RP0ACXX:2:2213:3821:44589\t99\tchr6p-cox\t63475\t60\t71M\t=\t63571\t196\tACAAGTTCATGTGTCTTTTTGGTAAAACAATGTATTTTCCTTTGGGCATATATGCGGTGATGGAATTGCTG\tCCCFFEFFHHHHHHIJJJJJJJHHIJJIJJJJFGIJJJJJJJJJJJIJJJJJIJJJJHGIIIJJIIIJJIJ\tAS:i:0\tXN:i:0\tXM:i:0\tXO:i:0\tXG:i:0\tNM:i:0\tMD:Z:71\tYS:i:0\tYT:Z:CP\tXS:A:+\tNH:i:1\n",
      "HWI-ST365:251:D0RP0ACXX:2:2306:3460:60429\t99\tchr6p-cox\t63475\t60\t100M\t=\t63571\t196\tACAAGTTCATGTGTCTTTTTGGTAAAACAATGTATTTTCCTTTGGGCATATATGCGGTGATGGAATTGCTGGATCGAGTGGTAGTTTAACTCTTAGTTCT\t@BCFFEFFHFHAFEHIJJIJJJGHJJJIJJJJ?FIJJJJIIGIJIJIJJIIIIJJJJHIGIJGIJJJIIJIHFHHHFEDDDEDEADEDDDDDDDDD@CDD\tAS:i:0\tXN:i:0\tXM:i:0\tXO:i:0\tXG:i:0\tNM:i:0\tMD:Z:100\tYS:i:0\tYT:Z:CP\tXS:A:+\tNH:i:1\n",
      "HWI-ST365:251:D0RP0ACXX:2:2213:3821:44589\t147\tchr6p-cox\t63571\t60\t100M\t=\t63475\t-196\tTTCTTTGAGAAATCCCCAGACTGTTCTCCACAGTGGCTGGACTAAGTTGCATTCCCACCAGCAGTGTAGAAGTGTTCCCCATTCTCTGTAGCCTCACCAG\tA9CCDEDEDCC@BDDDDDCCEDEBAFEFFEHHHHHJJIJJJJJJJJJIHFIIGIHG?JIJJJJJJJJJJJJJJIIIJJJJJIIHDJIHGHHHFFDDFCCB\tAS:i:0\tXN:i:0\tXM:i:0\tXO:i:0\tXG:i:0\tNM:i:0\tMD:Z:100\tYS:i:0\tYT:Z:CP\tXS:A:+\tNH:i:1\n",
      "HWI-ST365:251:D0RP0ACXX:2:2306:3460:60429\t147\tchr6p-cox\t63571\t60\t100M\t=\t63475\t-196\tTTCTTTGAGAAATCCCCAGACTGTTCTCCACAGTGGCTGGACTAAGTTGCATTCCCACCAGCAGTGTAGAAGTGTTCCCCATTCTCTGTAGCCTCACCAG\tA>>CACADDDDB@?DCC@@>@EC>CBB@?;HFHHHCEEHDFCEHEIHGGGJIEIHGFJHGIGGGGJHGJJIJIJHIGDJJIJIIGJHHHHHGFFDDD@CB\tAS:i:0\tXN:i:0\tXM:i:0\tXO:i:0\tXG:i:0\tNM:i:0\tMD:Z:100\tYS:i:0\tYT:Z:CP\tXS:A:+\tNH:i:1\n",
      "HWI-ST365:251:D0RP0ACXX:2:1310:14576:81585\t163\tchr6p-cox\t67526\t60\t100M\t=\t67725\t299\tGTTATTCTGAATACATCTTATTTTATATTTTTGACTTTGAAATCATGTAGCTGTTTTATGTAATATAAAAATGTAATTAAATTAACAGAAAAAAATTACA\t??<ADFFDDFHBHI<EGCBIHAE?E>BHHIEHG7FCBEEFDDGGGGHD<FF<B?FHGBHGDHIGJIGCAGHIG@AACAF@FHE=EEGAC)=7=<>=CCDD\tAS:i:0\tXN:i:0\tXM:i:0\tXO:i:0\tXG:i:0\tNM:i:0\tMD:Z:100\tYS:i:0\tYT:Z:CP\tXS:A:-\tNH:i:1\n",
      "HWI-ST365:251:D0RP0ACXX:2:1310:14576:81585\t83\tchr6p-cox\t67725\t60\t100M\t=\t67526\t-299\tACCCAATGAATTAATGGGCCTAAGATAACAACCAATAGAAGCTAAAATGACGAATAACTGTTTCAGAAGAAAACATATATGGAATGAATCAGCTGAAAAT\t;;>>C>6@;B@;C??;37=@HD@)=FAF@;B<=D:GDF?@CGHFF@B8HHFD?IIIH@IHGIHDHDHIIGIGHIHHHHBF>EIIFIIHFFGHFFDFFCC@\tAS:i:0\tXN:i:0\tXM:i:0\tXO:i:0\tXG:i:0\tNM:i:0\tMD:Z:100\tYS:i:0\tYT:Z:CP\tXS:A:-\tNH:i:1\n"
     ]
    }
   ],
   "source": [
    "head GUP-1_6p_on_chr6p-cox.sam"
   ]
  },
  {
   "cell_type": "markdown",
   "metadata": {},
   "source": [
    "**Question :** Vérifiez que le read `HWI-ST365:251:D0RP0ACXX:2:2115:4373:61541` est bien présent dans sa version pairée (R1 et R2). Pour cela recherche le motif `HWI-ST365:251:D0RP0ACXX:2:2115:4373:61541` dans le fichier `.sam` (ou directement depuis le fichier `.bam` avec `samtools view`)."
   ]
  },
  {
   "cell_type": "code",
   "execution_count": 13,
   "metadata": {},
   "outputs": [
    {
     "name": "stdout",
     "output_type": "stream",
     "text": [
      "HWI-ST365:251:D0RP0ACXX:2:2115:4373:61541\t163\tchr6p-cox\t62660\t60\t98M\t=\t62759\t145\tCGTACCTTAGTTCAACCATTGTGGAAGACAGTGTGGTGTTTCCTCAAGGATCTAAAACTAGAAATACCATTTGACCCAGCAATCCCATTACTGGGTAT\tB+14B+AB<FC?FEDHB=<CHF4C<?C;F;BEDDFE1??BF9DBBAF@FHFADGACHDH8=C7@DE@@=;CCEC:=A=ABD9@;>ACECA@CDC?;5@\tAS:i:-8\tZS:i:-11\tXN:i:0\tXM:i:2\tXO:i:0\tXG:i:0\tNM:i:2\tMD:Z:5A40T51\tYS:i:-2\tYT:Z:CP\tXS:A:-\tNH:i:1\n",
      "HWI-ST365:251:D0RP0ACXX:2:2115:4373:61541\t83\tchr6p-cox\t62759\t60\t46M\t=\t62660\t-145\tTTCCCAAACGATTGTAAGTCATTCTACTATAAAGACACATGCACAG\t0)EGFD=HBAEF@EEC:34@C>HFBIEGHEFFHFF?AHDDFFD@@?\tAS:i:-2\tZS:i:-2\tXN:i:0\tXM:i:1\tXO:i:0\tXG:i:0\tNM:i:1\tMD:Z:1A44\tYS:i:-8\tYT:Z:CP\tXS:A:-\tNH:i:1\n"
     ]
    }
   ],
   "source": [
    "grep HWI-ST365:251:D0RP0ACXX:2:2115:4373:61541 GUP-1_6p_on_chr6p-cox.sam"
   ]
  },
  {
   "cell_type": "code",
   "execution_count": 14,
   "metadata": {},
   "outputs": [
    {
     "name": "stdout",
     "output_type": "stream",
     "text": [
      "HWI-ST365:251:D0RP0ACXX:2:2115:4373:61541\t163\tchr6p-cox\t62660\t60\t98M\t=\t62759\t145\tCGTACCTTAGTTCAACCATTGTGGAAGACAGTGTGGTGTTTCCTCAAGGATCTAAAACTAGAAATACCATTTGACCCAGCAATCCCATTACTGGGTAT\tB+14B+AB<FC?FEDHB=<CHF4C<?C;F;BEDDFE1??BF9DBBAF@FHFADGACHDH8=C7@DE@@=;CCEC:=A=ABD9@;>ACECA@CDC?;5@\tAS:i:-8\tZS:i:-11\tXN:i:0\tXM:i:2\tXO:i:0\tXG:i:0\tNM:i:2\tMD:Z:5A40T51\tYS:i:-2\tYT:Z:CP\tXS:A:-\tNH:i:1\n",
      "HWI-ST365:251:D0RP0ACXX:2:2115:4373:61541\t83\tchr6p-cox\t62759\t60\t46M\t=\t62660\t-145\tTTCCCAAACGATTGTAAGTCATTCTACTATAAAGACACATGCACAG\t0)EGFD=HBAEF@EEC:34@C>HFBIEGHEFFHFF?AHDDFFD@@?\tAS:i:-2\tZS:i:-2\tXN:i:0\tXM:i:1\tXO:i:0\tXG:i:0\tNM:i:1\tMD:Z:1A44\tYS:i:-8\tYT:Z:CP\tXS:A:-\tNH:i:1\n"
     ]
    }
   ],
   "source": [
    "samtools view /srv/data/meg-m1-ue5/fil_rouge_unix/chr6p_map/GUP-1_6p_on_chr6p-cox.bam | grep HWI-ST365:251:D0RP0ACXX:2:2115:4373:61541"
   ]
  },
  {
   "cell_type": "markdown",
   "metadata": {},
   "source": [
    "**Question :** À partir des *flags* (ici 163 et 83), utilisez l'outil [Decoding SAM flags](https://broadinstitute.github.io/picard/explain-flags.html) pour vérifier que les deux alignements que vous avez obtenus correspondent bien à des reads pairés."
   ]
  },
  {
   "cell_type": "markdown",
   "metadata": {},
   "source": [
    "En recherchant les *flags* 163 et 83, on obtient les informations suivantes :\n",
    "\n",
    "*Flag* 163 :\n",
    "- read paired (0x1)\n",
    "- read mapped in proper pair (0x2)\n",
    "- mate reverse strand (0x20)\n",
    "- second in pair (0x80)\n",
    "\n",
    "*Flag* 83 :\n",
    "- read paired (0x1)\n",
    "- read mapped in proper pair (0x2)\n",
    "- read reverse strand (0x10)\n",
    "- first in pair (0x40)"
   ]
  },
  {
   "cell_type": "markdown",
   "metadata": {},
   "source": [
    "<div class=\"alert alert-block alert-info\">\n",
    "Pour en savoir encore plus sur l'analyse de données RNA-seq, n'oubliez pas de suivre l'option RNA-seq de Claire Vandiedonck et Sandrine Caburet en M2 !\n",
    "</div>"
   ]
  }
 ],
 "metadata": {
  "kernelspec": {
   "display_name": "Bash",
   "language": "bash",
   "name": "bash"
  },
  "language_info": {
   "codemirror_mode": "shell",
   "file_extension": ".sh",
   "mimetype": "text/x-sh",
   "name": "bash"
  }
 },
 "nbformat": 4,
 "nbformat_minor": 4
}
