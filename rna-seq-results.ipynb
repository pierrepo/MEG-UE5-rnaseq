{
 "cells": [
  {
   "cell_type": "markdown",
   "metadata": {},
   "source": [
    "# Exploration des résultats de l'analyse RNA-seq\n",
    "\n",
    "Nettoyage des données résiduelles :"
   ]
  },
  {
   "cell_type": "code",
   "execution_count": null,
   "metadata": {},
   "outputs": [],
   "source": [
    "rm -f GUP-1_6p_on_chr6p-cox.sam GUP-1_6p_on_chr6p-cox.sam.gz"
   ]
  },
  {
   "cell_type": "markdown",
   "metadata": {},
   "source": [
    "## Accès aux données\n",
    "\n",
    "Les résultats de l'analyse RNA-seq se trouvent dans le répertoire `/srv/data/meg-m1-ue5/fil_rouge_unix`.\n",
    "\n",
    "Vous n'avez pas le droit d'écrire dans ce répertoire, mais vous pouvez le parcourir et ouvrir ses fichiers.\n",
    "\n",
    "**Question :** Affichez le contenu du répertoire `/srv/data/meg-m1-ue5/fil_rouge_unix` avec les détails :"
   ]
  },
  {
   "cell_type": "code",
   "execution_count": null,
   "metadata": {},
   "outputs": [],
   "source": [
    "# votre réponse ici"
   ]
  },
  {
   "cell_type": "markdown",
   "metadata": {},
   "source": [
    "**Question :** Affichez l'arboresence (les répertoires, les sous-répertoires et les fichiers) de ce répertoire."
   ]
  },
  {
   "cell_type": "code",
   "execution_count": null,
   "metadata": {},
   "outputs": [],
   "source": [
    "# votre réponse ici"
   ]
  },
  {
   "cell_type": "markdown",
   "metadata": {},
   "source": [
    "**Question :** Quel espace disque est occupé par l'ensemble des données dans ce répertoire ?"
   ]
  },
  {
   "cell_type": "code",
   "execution_count": null,
   "metadata": {},
   "outputs": [],
   "source": [
    "# votre réponse ici"
   ]
  },
  {
   "cell_type": "markdown",
   "metadata": {},
   "source": [
    "**Question :** Affichez la taille des fichiers `.bam` issus du mapping."
   ]
  },
  {
   "cell_type": "code",
   "execution_count": null,
   "metadata": {},
   "outputs": [],
   "source": [
    "# votre réponse ici"
   ]
  },
  {
   "cell_type": "markdown",
   "metadata": {},
   "source": [
    "## Bam et Sam\n",
    "\n",
    "Les fichiers `.bam` sont la version binaire des fichiers `.sam`.\n",
    "\n",
    "**Question :** `.bam` vs `.sam`, quels sont les avantages et les inconvénients ?"
   ]
  },
  {
   "cell_type": "markdown",
   "metadata": {},
   "source": [
    "*votre réponse ici*"
   ]
  },
  {
   "cell_type": "markdown",
   "metadata": {},
   "source": [
    "## Manipulation avec samtools\n",
    "\n",
    "### Retour sur le workflow\n",
    "\n",
    "Le logiciel `samtools` est utilisé plusieurs fois dans le script `workflow.sh`.\n",
    "\n",
    "**Question :** Identifiez à quelles étapes `samtools` intervient et pour quoi faire exactement."
   ]
  },
  {
   "cell_type": "markdown",
   "metadata": {},
   "source": [
    "*votre réponse ici*"
   ]
  },
  {
   "cell_type": "markdown",
   "metadata": {},
   "source": [
    "## Samtools view\n",
    "\n",
    "La commande `samtools view` permet de transformer une fichier `.bam` en `.sam` et de visualiser certaines propriétés du fichier `.bam`.\n",
    "\n",
    "**Question :** Dans l'aide de `samtools view` ([ici](http://www.htslib.org/doc/samtools-view.html)), trouvez quelle option permet d'afficher **uniquement** les métadonnées (*header*) d'un fichier `.bam`."
   ]
  },
  {
   "cell_type": "markdown",
   "metadata": {},
   "source": [
    "*votre réponse ici*"
   ]
  },
  {
   "cell_type": "markdown",
   "metadata": {},
   "source": [
    "**Question :** Affichez les métadonnées du fichier `GUP-1_6p_on_chr6p-cox.bam`. Pensez à bien indiquer le chemin complet du fichier (`/srv/data/chemin/à/déterminer/GUP-1_6p_on_chr6p-cox.bam`)."
   ]
  },
  {
   "cell_type": "code",
   "execution_count": null,
   "metadata": {},
   "outputs": [],
   "source": [
    "# votre réponse ici"
   ]
  },
  {
   "cell_type": "markdown",
   "metadata": {},
   "source": [
    "**Question :** Retrouvez dans ces métadonnées le logiciel d'alignement utilisé."
   ]
  },
  {
   "cell_type": "markdown",
   "metadata": {},
   "source": [
    "*votre réponse ici*"
   ]
  },
  {
   "cell_type": "markdown",
   "metadata": {},
   "source": [
    "### Comparaison de taille de fichiers"
   ]
  },
  {
   "cell_type": "markdown",
   "metadata": {},
   "source": [
    "Convertissez le fichier `GUP-1_6p_on_chr6p-cox.bam` en fichier `.sam` dans votre répertoire courant avec la commande suivante :\n",
    "```\n",
    "samtools view /srv/data/chemin/à/déterminer/GUP-1_6p_on_chr6p-cox.bam > GUP-1_6p_on_chr6p-cox.sam\n",
    "```\n",
    "\n",
    "Attention, n'oubliez pas la redirection `>`. Sinon vous risquez de faire planter votre notebook Jupyter."
   ]
  },
  {
   "cell_type": "code",
   "execution_count": null,
   "metadata": {},
   "outputs": [],
   "source": [
    "# votre réponse ici"
   ]
  },
  {
   "cell_type": "markdown",
   "metadata": {},
   "source": [
    "**Question :** Quelle est la taille du fichier `/srv/data/chemin/à/déterminer/GUP-1_6p_on_chr6p-cox.bam` ? "
   ]
  },
  {
   "cell_type": "code",
   "execution_count": null,
   "metadata": {},
   "outputs": [],
   "source": [
    "# votre réponse ici"
   ]
  },
  {
   "cell_type": "markdown",
   "metadata": {},
   "source": [
    "**Question :** Quelle est la taille du fichier `GUP-1_6p_on_chr6p-cox.sam` obtenu ? "
   ]
  },
  {
   "cell_type": "code",
   "execution_count": null,
   "metadata": {},
   "outputs": [],
   "source": [
    "# votre réponse ici"
   ]
  },
  {
   "cell_type": "markdown",
   "metadata": {},
   "source": [
    "**Question :** Quel est le rapport de taille entre les deux fichiers ?"
   ]
  },
  {
   "cell_type": "markdown",
   "metadata": {},
   "source": [
    "*votre réponse ici*"
   ]
  },
  {
   "cell_type": "markdown",
   "metadata": {},
   "source": [
    "Compressez maintenant le fichier `.sam` avec gzip :\n",
    "```\n",
    "gzip -k GUP-1_6p_on_chr6p-cox.sam\n",
    "```"
   ]
  },
  {
   "cell_type": "code",
   "execution_count": null,
   "metadata": {},
   "outputs": [],
   "source": [
    "# votre réponse ici"
   ]
  },
  {
   "cell_type": "markdown",
   "metadata": {},
   "source": [
    "**Question :** Quelle est l'utilité de l'option `-k` de la commande `gzip` ?"
   ]
  },
  {
   "cell_type": "markdown",
   "metadata": {},
   "source": [
    "*votre réponse ici*"
   ]
  },
  {
   "cell_type": "markdown",
   "metadata": {},
   "source": [
    "**Question :** Quelle est la taille du fichier `GUP-1_6p_on_chr6p-cox.sam.gz` ?"
   ]
  },
  {
   "cell_type": "code",
   "execution_count": null,
   "metadata": {},
   "outputs": [],
   "source": [
    "# votre réponse ici"
   ]
  },
  {
   "cell_type": "markdown",
   "metadata": {},
   "source": [
    "**Question :** La taille du fichier `.sam.gz` est plus petite que celle du fichier `.bam` initial.\n",
    "Pourquoi dans ce cas, utilisez quand le format `.bam` ?"
   ]
  },
  {
   "cell_type": "markdown",
   "metadata": {},
   "source": [
    "*votre réponse ici*"
   ]
  },
  {
   "cell_type": "markdown",
   "metadata": {},
   "source": [
    "### Recherche d'un read pairé\n",
    "\n",
    "**Question :** Affichez les 10 premières lignes du fichier `.sam`."
   ]
  },
  {
   "cell_type": "code",
   "execution_count": null,
   "metadata": {},
   "outputs": [],
   "source": [
    "# votre réponse ici"
   ]
  },
  {
   "cell_type": "markdown",
   "metadata": {},
   "source": [
    "**Question :** Vérifiez que le read `HWI-ST365:251:D0RP0ACXX:2:2115:4373:61541` est bien présent dans sa version pairée (R1 et R2). Pour cela recherche le motif `HWI-ST365:251:D0RP0ACXX:2:2115:4373:61541` dans le fichier `.sam` (ou directement depuis le fichier `.bam` avec `samtools view`)."
   ]
  },
  {
   "cell_type": "code",
   "execution_count": null,
   "metadata": {},
   "outputs": [],
   "source": [
    "# votre réponse ici"
   ]
  },
  {
   "cell_type": "code",
   "execution_count": null,
   "metadata": {},
   "outputs": [],
   "source": [
    "# votre réponse ici"
   ]
  },
  {
   "cell_type": "markdown",
   "metadata": {},
   "source": [
    "**Question :** À partir des *flags* (ici 163 et 83), utilisez l'outil [Decoding SAM flags](https://broadinstitute.github.io/picard/explain-flags.html) pour vérifier que les deux alignements que vous avez obtenus correspondent bien à des reads pairés."
   ]
  },
  {
   "cell_type": "markdown",
   "metadata": {},
   "source": [
    "En recherchant les *flags* 163 et 83, on obtient les informations suivantes :\n",
    "\n",
    "*votre réponse ici*"
   ]
  },
  {
   "cell_type": "markdown",
   "metadata": {},
   "source": [
    "<div class=\"alert alert-block alert-info\">\n",
    "Pour en savoir encore plus sur l'analyse de données RNA-seq, n'oubliez pas de suivre l'option RNA-seq de Claire Vandiedonck et Sandrine Caburet en M2 !\n",
    "</div>"
   ]
  }
 ],
 "metadata": {
  "kernelspec": {
   "display_name": "Bash",
   "language": "bash",
   "name": "bash"
  },
  "language_info": {
   "codemirror_mode": "shell",
   "file_extension": ".sh",
   "mimetype": "text/x-sh",
   "name": "bash"
  }
 },
 "nbformat": 4,
 "nbformat_minor": 4
}
